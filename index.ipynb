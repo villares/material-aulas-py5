{
 "cells": [
  {
   "cell_type": "markdown",
   "id": "2c7ff559",
   "metadata": {},
   "source": [
    "# Introdução à programação em um contexto visual\n",
    "> com Python e Processing, usando a biblioteca [py5](py5coding.org)"
   ]
  },
  {
   "cell_type": "code",
   "execution_count": 10,
   "id": "e107554b-b1f7-4dbf-b221-79e3d07fe532",
   "metadata": {},
   "outputs": [],
   "source": [
    "def setup():\n",
    "    size(500, 500, P3D)"
   ]
  },
  {
   "cell_type": "code",
   "execution_count": 6,
   "id": "987cf660-98f3-4684-8f25-1d5ab8be39c5",
   "metadata": {},
   "outputs": [],
   "source": [
    "def draw():\n",
    "    translate(250, 250, 0)\n",
    "    background(255)\n",
    "    rotate_y(mouse_x / 4.0) # 22.5 graus\n",
    "    for x in range(-100, 101, 50):\n",
    "        for y in range(-100, 101, 50):\n",
    "            for z in range(-100, 101, 50):\n",
    "                fill(100 + x, 100 + y, 100 + z)\n",
    "                my_box(x, y, z, 25 + 25 * sin(x + y + frame_count / 20.0))"
   ]
  },
  {
   "cell_type": "code",
   "execution_count": 8,
   "id": "e5a258db-b5bf-4264-8023-e5a901a43248",
   "metadata": {},
   "outputs": [],
   "source": [
    "def my_box(x, y, z, tamanho):\n",
    "    push()\n",
    "    translate(x, y, z)\n",
    "    box(tamanho)\n",
    "    pop()"
   ]
  },
  {
   "cell_type": "code",
   "execution_count": 14,
   "id": "f57acc82-eb2a-4002-8096-04ec7eab4142",
   "metadata": {},
   "outputs": [
    {
     "name": "stdout",
     "output_type": "stream",
     "text": [
      "Sketch is already running. To run a new sketch, exit the running sketch first.\n"
     ]
    },
    {
     "data": {
      "application/vnd.jupyter.widget-view+json": {
       "model_id": "a6b81e630392435491722fe6d2687c3e",
       "version_major": 2,
       "version_minor": 0
      },
      "text/plain": [
       "VBox(children=(Py5SketchPortal(value=b'', layout=\"Layout(border='1px solid gray', height='600px', width='600px…"
      ]
     },
     "metadata": {},
     "output_type": "display_data"
    }
   ],
   "source": [
    "run_sketch()  # chama o setup() uma vez, e o draw() em repetição.\n",
    "\n",
    "# Para ver o resultado, usando o mybinder.org o Thebe Live Code no Jupyter book\n",
    "portal = py5_tools.sketch_portal(quality=75, scale=1.0)\n",
    "portal"
   ]
  },
  {
   "cell_type": "code",
   "execution_count": null,
   "id": "b4ac7eba-2026-4a23-81ae-0b6444bd47fd",
   "metadata": {},
   "outputs": [],
   "source": []
  }
 ],
 "metadata": {
  "jupytext": {
   "formats": "ipynb,md:myst",
   "text_representation": {
    "extension": ".md",
    "format_name": "myst",
    "format_version": 0.13,
    "jupytext_version": "1.10.3"
   }
  },
  "kernelspec": {
   "display_name": "py5",
   "language": "python",
   "name": "py5"
  },
  "language_info": {
   "codemirror_mode": {
    "name": "ipython",
    "version": 3
   },
   "file_extension": ".py",
   "mimetype": "text/x-python",
   "name": "python",
   "nbconvert_exporter": "python",
   "pygments_lexer": "ipython3",
   "version": "3.8.10"
  }
 },
 "nbformat": 4,
 "nbformat_minor": 5
}
