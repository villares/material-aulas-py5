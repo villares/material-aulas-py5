{
 "cells": [
  {
   "cell_type": "markdown",
   "id": "4e1b17aa",
   "metadata": {},
   "source": [
    "# Introdução à programação em um contexto visual\n",
    "> com Python e Processing, usando a biblioteca [py5](py5.ixora.io)"
   ]
  },
  {
   "cell_type": "code",
   "execution_count": 1,
   "id": "b84e5c11",
   "metadata": {},
   "outputs": [],
   "source": [
    "def setup():\n",
    "    size(500, 500, P3D)"
   ]
  },
  {
   "cell_type": "code",
   "execution_count": 2,
   "id": "05df4c26",
   "metadata": {},
   "outputs": [],
   "source": [
    "def draw():\n",
    "    translate(250, 250, 0)\n",
    "    background(255)\n",
    "    rotate_y(mouse_x / 4.0) # 22.5 graus\n",
    "    for x in range(-100, 101, 50):\n",
    "        for y in range(-100, 101, 50):\n",
    "            for z in range(-100, 101, 50):\n",
    "                fill(100 + x, 100 + y, 100 + z)\n",
    "                my_box(x, y, z, 25 + 25 * sin(x + y + frame_count / 20.0))"
   ]
  },
  {
   "cell_type": "code",
   "execution_count": 3,
   "id": "9d6faac0",
   "metadata": {},
   "outputs": [],
   "source": [
    "def my_box(x, y, z, tamanho):\n",
    "    push()\n",
    "    translate(x, y, z)\n",
    "    box(tamanho)\n",
    "    pop()"
   ]
  },
  {
   "cell_type": "code",
   "execution_count": 4,
   "id": "b45c565f",
   "metadata": {},
   "outputs": [
    {
     "data": {
      "application/vnd.jupyter.widget-view+json": {
       "model_id": "cc318b4a77cb423793333ff19559cd68",
       "version_major": 2,
       "version_minor": 0
      },
      "text/plain": [
       "VBox(children=(Py5SketchPortal(value=b'', layout=\"Layout(border='1px solid gray', height='500px', width='500px…"
      ]
     },
     "metadata": {},
     "output_type": "display_data"
    }
   ],
   "source": [
    "run_sketch()  # chama o setup() uma vez, e o draw() em repetição.\n",
    "\n",
    "# Para ver o resultado, usando o mybinder.org o Thebe Live Code no Jupyter book\n",
    "portal = py5_tools.sketch_portal(quality=75, scale=1.0)\n",
    "portal"
   ]
  },
  {
   "cell_type": "code",
   "execution_count": null,
   "id": "cb5d2719",
   "metadata": {},
   "outputs": [],
   "source": []
  }
 ],
 "metadata": {
  "jupytext": {
   "formats": "ipynb,md:myst",
   "text_representation": {
    "extension": ".md",
    "format_name": "myst",
    "format_version": 0.13,
    "jupytext_version": "1.10.3"
   }
  },
  "kernelspec": {
   "display_name": "py5",
   "language": "python",
   "name": "py5"
  },
  "language_info": {
   "codemirror_mode": {
    "name": "ipython",
    "version": 3
   },
   "file_extension": ".py",
   "mimetype": "text/x-python",
   "name": "python",
   "nbconvert_exporter": "python",
   "pygments_lexer": "ipython3",
   "version": "3.8.10"
  },
  "source_map": [
   13,
   18,
   23,
   35,
   43,
   51
  ],
  "widgets": {
   "application/vnd.jupyter.widget-state+json": {
    "state": {
     "0717d744a2ca4ad8ac74ba33dc1e0c7e": {
      "model_module": "@jupyter-widgets/controls",
      "model_module_version": "1.5.0",
      "model_name": "ButtonStyleModel",
      "state": {
       "_model_module": "@jupyter-widgets/controls",
       "_model_module_version": "1.5.0",
       "_model_name": "ButtonStyleModel",
       "_view_count": null,
       "_view_module": "@jupyter-widgets/base",
       "_view_module_version": "1.2.0",
       "_view_name": "StyleView",
       "button_color": null,
       "font_weight": ""
      }
     },
     "0d09e8383a6240eba1936b5c68133248": {
      "buffers": [
       {
        "data": "",
        "encoding": "base64",
        "path": [
         "value"
        ]
       }
      ],
      "model_module": "@jupyter-widgets/controls",
      "model_module_version": "1.5.0",
      "model_name": "ImageModel",
      "state": {
       "_dom_classes": [],
       "_model_module": "@jupyter-widgets/controls",
       "_model_module_version": "1.5.0",
       "_model_name": "ImageModel",
       "_view_count": null,
       "_view_module": "@jupyter-widgets/controls",
       "_view_module_version": "1.5.0",
       "_view_name": "ImageView",
       "format": "png",
       "height": "",
       "layout": "IPY_MODEL_b9943411f044474ab8888cbbc20067c7",
       "width": ""
      }
     },
     "7d0ef19d19b74778b1e5a7f9a813e1ca": {
      "model_module": "@jupyter-widgets/base",
      "model_module_version": "1.2.0",
      "model_name": "LayoutModel",
      "state": {
       "_model_module": "@jupyter-widgets/base",
       "_model_module_version": "1.2.0",
       "_model_name": "LayoutModel",
       "_view_count": null,
       "_view_module": "@jupyter-widgets/base",
       "_view_module_version": "1.2.0",
       "_view_name": "LayoutView",
       "align_content": null,
       "align_items": null,
       "align_self": null,
       "border": null,
       "bottom": null,
       "display": null,
       "flex": null,
       "flex_flow": null,
       "grid_area": null,
       "grid_auto_columns": null,
       "grid_auto_flow": null,
       "grid_auto_rows": null,
       "grid_column": null,
       "grid_gap": null,
       "grid_row": null,
       "grid_template_areas": null,
       "grid_template_columns": null,
       "grid_template_rows": null,
       "height": null,
       "justify_content": null,
       "justify_items": null,
       "left": null,
       "margin": null,
       "max_height": null,
       "max_width": null,
       "min_height": null,
       "min_width": null,
       "object_fit": null,
       "object_position": null,
       "order": null,
       "overflow": null,
       "overflow_x": null,
       "overflow_y": null,
       "padding": null,
       "right": null,
       "top": null,
       "visibility": null,
       "width": null
      }
     },
     "b9943411f044474ab8888cbbc20067c7": {
      "model_module": "@jupyter-widgets/base",
      "model_module_version": "1.2.0",
      "model_name": "LayoutModel",
      "state": {
       "_model_module": "@jupyter-widgets/base",
       "_model_module_version": "1.2.0",
       "_model_name": "LayoutModel",
       "_view_count": null,
       "_view_module": "@jupyter-widgets/base",
       "_view_module_version": "1.2.0",
       "_view_name": "LayoutView",
       "align_content": null,
       "align_items": null,
       "align_self": null,
       "border": "1px solid gray",
       "bottom": null,
       "display": null,
       "flex": null,
       "flex_flow": null,
       "grid_area": null,
       "grid_auto_columns": null,
       "grid_auto_flow": null,
       "grid_auto_rows": null,
       "grid_column": null,
       "grid_gap": null,
       "grid_row": null,
       "grid_template_areas": null,
       "grid_template_columns": null,
       "grid_template_rows": null,
       "height": "500px",
       "justify_content": null,
       "justify_items": null,
       "left": null,
       "margin": null,
       "max_height": null,
       "max_width": null,
       "min_height": null,
       "min_width": null,
       "object_fit": null,
       "object_position": null,
       "order": null,
       "overflow": null,
       "overflow_x": null,
       "overflow_y": null,
       "padding": null,
       "right": null,
       "top": null,
       "visibility": null,
       "width": "500px"
      }
     },
     "c29548b0a17f4ad2a28f2590ae96fc08": {
      "model_module": "@jupyter-widgets/base",
      "model_module_version": "1.2.0",
      "model_name": "LayoutModel",
      "state": {
       "_model_module": "@jupyter-widgets/base",
       "_model_module_version": "1.2.0",
       "_model_name": "LayoutModel",
       "_view_count": null,
       "_view_module": "@jupyter-widgets/base",
       "_view_module_version": "1.2.0",
       "_view_name": "LayoutView",
       "align_content": null,
       "align_items": null,
       "align_self": null,
       "border": null,
       "bottom": null,
       "display": null,
       "flex": null,
       "flex_flow": null,
       "grid_area": null,
       "grid_auto_columns": null,
       "grid_auto_flow": null,
       "grid_auto_rows": null,
       "grid_column": null,
       "grid_gap": null,
       "grid_row": null,
       "grid_template_areas": null,
       "grid_template_columns": null,
       "grid_template_rows": null,
       "height": null,
       "justify_content": null,
       "justify_items": null,
       "left": null,
       "margin": null,
       "max_height": null,
       "max_width": null,
       "min_height": null,
       "min_width": null,
       "object_fit": null,
       "object_position": null,
       "order": null,
       "overflow": null,
       "overflow_x": null,
       "overflow_y": null,
       "padding": null,
       "right": null,
       "top": null,
       "visibility": null,
       "width": null
      }
     },
     "cc318b4a77cb423793333ff19559cd68": {
      "model_module": "@jupyter-widgets/controls",
      "model_module_version": "1.5.0",
      "model_name": "VBoxModel",
      "state": {
       "_dom_classes": [],
       "_model_module": "@jupyter-widgets/controls",
       "_model_module_version": "1.5.0",
       "_model_name": "VBoxModel",
       "_view_count": null,
       "_view_module": "@jupyter-widgets/controls",
       "_view_module_version": "1.5.0",
       "_view_name": "VBoxView",
       "box_style": "",
       "children": [
        "IPY_MODEL_0d09e8383a6240eba1936b5c68133248",
        "IPY_MODEL_dbf344ed818b4966b7fe04a45587964d"
       ],
       "layout": "IPY_MODEL_c29548b0a17f4ad2a28f2590ae96fc08"
      }
     },
     "dbf344ed818b4966b7fe04a45587964d": {
      "model_module": "@jupyter-widgets/controls",
      "model_module_version": "1.5.0",
      "model_name": "ButtonModel",
      "state": {
       "_dom_classes": [],
       "_model_module": "@jupyter-widgets/controls",
       "_model_module_version": "1.5.0",
       "_model_name": "ButtonModel",
       "_view_count": null,
       "_view_module": "@jupyter-widgets/controls",
       "_view_module_version": "1.5.0",
       "_view_name": "ButtonView",
       "button_style": "",
       "description": "exit_sketch()",
       "disabled": false,
       "icon": "",
       "layout": "IPY_MODEL_7d0ef19d19b74778b1e5a7f9a813e1ca",
       "style": "IPY_MODEL_0717d744a2ca4ad8ac74ba33dc1e0c7e",
       "tooltip": ""
      }
     }
    },
    "version_major": 2,
    "version_minor": 0
   }
  }
 },
 "nbformat": 4,
 "nbformat_minor": 5
}