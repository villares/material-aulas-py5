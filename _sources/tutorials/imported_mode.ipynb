{
 "cells": [
  {
   "cell_type": "code",
   "execution_count": 7,
   "id": "92f2b724-0b55-49d1-b94d-50055f979009",
   "metadata": {},
   "outputs": [],
   "source": [
    "from itertools import product\n",
    "from random import randint\n",
    "\n",
    "hor = lambda x, y, w, h: random(0, 2.5) < 1 - cos(x / w * TWO_PI)\n",
    "ver = lambda x, y, w, h: random(0, 2.5) < 1 - cos(y / h * TWO_PI)    \n",
    "\n",
    "def setup():\n",
    "    size(960, 960)\n",
    "    stroke_weight(1.5)\n",
    "    # noSmooth()\n",
    "    #size(512 + 256 + 128, 512 + 256 + 128)\n",
    "    no_loop()\n",
    "    \n",
    "def grid(xo, yo, w):\n",
    "    qw = w // 4\n",
    "    for i in range(4):\n",
    "        x = xo + i * qw\n",
    "        for j in range(4):\n",
    "            y = yo + j * qw\n",
    "            r = randint(1, 3)\n",
    "            if qw > 32 and r == 1:\n",
    "                grid(x, y, qw)\n",
    "            elif r == 2:\n",
    "                stroke(0, 100, 200); stroke(200)\n",
    "                region(x, y, qw, qw, hor)\n",
    "            else:\n",
    "                stroke(100, 0, 200)#; stroke(100)\n",
    "                region(x, y, qw, qw, ver)\n",
    "def draw():\n",
    "    scale(0.5)\n",
    "    background(32)\n",
    "    grid(0, 0, width * 2)\n",
    "\n",
    "                \n",
    "def region(xo, yo, w, h, rule):\n",
    "    grid = product(range(xo, xo + w), range(yo, yo + h))\n",
    "    for x, y in grid:\n",
    "        if rule(x - xo, y - yo, w, h):\n",
    "            point(x, y)\n",
    "            "
   ]
  },
  {
   "cell_type": "code",
   "execution_count": 9,
   "id": "96000841-ba4f-4ec0-8fea-4baf297af126",
   "metadata": {},
   "outputs": [],
   "source": [
    "run_sketch()"
   ]
  }
 ],
 "metadata": {
  "kernelspec": {
   "display_name": "py5",
   "language": "python",
   "name": "py5"
  },
  "language_info": {
   "codemirror_mode": {
    "name": "ipython",
    "version": 3
   },
   "file_extension": ".py",
   "mimetype": "text/x-python",
   "name": "python",
   "nbconvert_exporter": "python",
   "pygments_lexer": "ipython3",
   "version": "3.8.10"
  }
 },
 "nbformat": 4,
 "nbformat_minor": 5
}
