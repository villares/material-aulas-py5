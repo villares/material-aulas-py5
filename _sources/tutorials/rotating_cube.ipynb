{
 "cells": [
  {
   "cell_type": "markdown",
   "id": "d18eaba1",
   "metadata": {},
   "source": [
    "# Rotating Cube\n",
    "\n",
    "This is a simple demonstration of using py5 in Jupyter notebooks. This will use the P3D (OpenGL) renderer. If you are running this notebook through binder, the running Sketch will be viewable through a py5 Sketch Portal. If you are viewing this page from the py5 documentation website, see the Binder or Live Code options by hovering your mouse over the rocket ship icon at the top of this page."
   ]
  },
  {
   "cell_type": "markdown",
   "id": "46b72afb",
   "metadata": {},
   "source": [
    "## Import py5 and py5_tools\n",
    "\n",
    "Import the py5 library. When the library is imported the Java Virtual Machine (JVM) is started."
   ]
  },
  {
   "cell_type": "code",
   "execution_count": 1,
   "id": "32508f79",
   "metadata": {},
   "outputs": [],
   "source": [
    "import py5_tools\n",
    "import py5"
   ]
  },
  {
   "cell_type": "markdown",
   "id": "1d60bd9a",
   "metadata": {},
   "source": [
    "## Define Global Variables\n",
    "\n",
    "Define some global variables that will be used by the Sketch."
   ]
  },
  {
   "cell_type": "code",
   "execution_count": 2,
   "id": "da6f87a9",
   "metadata": {},
   "outputs": [],
   "source": [
    "rot_x = 0\n",
    "rot_y = 0\n",
    "rot_z = 0"
   ]
  },
  {
   "cell_type": "markdown",
   "id": "c69f1096",
   "metadata": {},
   "source": [
    "## Define `setup` Method\n",
    "\n",
    "This will set the width and height of the Sketch, along with the frame rate and other basic setup type stuff.\n",
    "\n",
    "py5 allows you to call the `size()` method from `setup()` and skip `settings()` altogether. This is analogous to what can be done in the Processing IDE."
   ]
  },
  {
   "cell_type": "code",
   "execution_count": 3,
   "id": "4b11002d",
   "metadata": {},
   "outputs": [],
   "source": [
    "def setup():\n",
    "    py5.size(400, 400, py5.P3D)\n",
    "    py5.frame_rate(30)\n",
    "    py5.stroke_weight(8)\n",
    "    py5.stroke(0)\n",
    "    py5.no_fill()"
   ]
  },
  {
   "cell_type": "markdown",
   "id": "97688944",
   "metadata": {},
   "source": [
    "## Define `draw` Method\n",
    "\n",
    "The draw method will do some transformations and draw a box."
   ]
  },
  {
   "cell_type": "code",
   "execution_count": 4,
   "id": "424989a8",
   "metadata": {},
   "outputs": [],
   "source": [
    "def draw():\n",
    "    py5.background(192)\n",
    "\n",
    "    global rot_x\n",
    "    rot_x += 0.8\n",
    "    global rot_y\n",
    "    rot_y += 0.3\n",
    "    global rot_z\n",
    "    rot_z += 0.5\n",
    "\n",
    "    py5.translate(py5.width / 2, py5.height / 2, -200)\n",
    "    py5.rotate_x(py5.radians(rot_x))\n",
    "    py5.rotate_y(py5.radians(rot_y))\n",
    "    py5.rotate_z(py5.radians(rot_z))\n",
    "\n",
    "    py5.box(250)"
   ]
  },
  {
   "cell_type": "markdown",
   "id": "d2cf3f33",
   "metadata": {},
   "source": [
    "## Run the Sketch\n",
    "\n",
    "Run the sketch, opening a window on the display. If you are running this through a JupterHub platform such as binder, no window will appear on your computer because the Sketch is really running on a server in the cloud. As an alternative, we will create a py5 Sketch Portal to view the animation."
   ]
  },
  {
   "cell_type": "code",
   "execution_count": 5,
   "id": "35cf4ac9",
   "metadata": {},
   "outputs": [],
   "source": [
    "py5.run_sketch()"
   ]
  },
  {
   "cell_type": "markdown",
   "id": "27b5875c",
   "metadata": {},
   "source": [
    "## Open the py5 Sketch Portal\n",
    "\n",
    "This will create a Sketch portal and embed it in the notebook.\n",
    "\n",
    "Internally the portal uses a hook mechanism that allows you to insert code to be run before or after any py5 method. This hook mechanism will one day allow developers to create py5 libraries and extensions.\n",
    "\n",
    "To be clear, although you will see a live animation in the Sketch Portal, the Sketch is not actually running in your browser. It's kind of like when you watch a live television program on your TV. The live events are taking place somewhere else, but images of the events are being broadcast to your television."
   ]
  },
  {
   "cell_type": "code",
   "execution_count": 6,
   "id": "4519b052",
   "metadata": {},
   "outputs": [
    {
     "data": {
      "application/vnd.jupyter.widget-view+json": {
       "model_id": "dfa47ad77898437a854fc0186a0a7734",
       "version_major": 2,
       "version_minor": 0
      },
      "text/plain": [
       "VBox(children=(Py5SketchPortal(value=b'', layout=\"Layout(border='1px solid gray', height='400px', width='400px…"
      ]
     },
     "metadata": {},
     "output_type": "display_data"
    }
   ],
   "source": [
    "portal = py5_tools.sketch_portal(quality=75, scale=1.0)\n",
    "\n",
    "portal"
   ]
  },
  {
   "cell_type": "markdown",
   "id": "6dc7adf0",
   "metadata": {},
   "source": [
    "You should see a clean and smooth animation. If you are running this through mybinder, the animation quality will be dependent on your having a good internet connection and a well behaved server. If it seems jumpy, try adjusting the quality or the scale. You can also try using the `throttle_frame_rate` parameter to lower the sketch portal's frame to below the Sketch's frame rate. See the documenation for more information."
   ]
  },
  {
   "cell_type": "markdown",
   "id": "aa565661",
   "metadata": {},
   "source": [
    "## Check the Sketch `frame_rate`\n",
    "\n",
    "Check the frame rate. You should be able to get 30 frames per second for this Sketch. I've been able to get 60 frames per second while running on mybinder, but not all the time."
   ]
  },
  {
   "cell_type": "code",
   "execution_count": 7,
   "id": "8b537d6c",
   "metadata": {},
   "outputs": [
    {
     "data": {
      "text/plain": [
       "60.0"
      ]
     },
     "execution_count": 7,
     "metadata": {},
     "output_type": "execute_result"
    }
   ],
   "source": [
    "py5.get_frame_rate()"
   ]
  },
  {
   "cell_type": "markdown",
   "id": "7c443fa8",
   "metadata": {},
   "source": [
    "## Next Steps for Jupyter Lab Users\n",
    "\n",
    "If you are using Jupyter Lab, after executing the previous cell, try right clicking in the output area and selecting `Create New View for Output`. This will create a new panel just for the Sketch portal. Creating a `New Console for Notebook` and creating a portal there works well also."
   ]
  },
  {
   "cell_type": "code",
   "execution_count": null,
   "id": "4836eb73",
   "metadata": {},
   "outputs": [],
   "source": []
  }
 ],
 "metadata": {
  "jupytext": {
   "formats": "ipynb,md:myst",
   "text_representation": {
    "extension": ".md",
    "format_name": "myst",
    "format_version": 0.13,
    "jupytext_version": "1.10.3"
   }
  },
  "kernelspec": {
   "display_name": "Python 3",
   "language": "python",
   "name": "python3"
  },
  "language_info": {
   "codemirror_mode": {
    "name": "ipython",
    "version": 3
   },
   "file_extension": ".py",
   "mimetype": "text/x-python",
   "name": "python",
   "nbconvert_exporter": "python",
   "pygments_lexer": "ipython3",
   "version": "3.8.10"
  },
  "source_map": [
   13,
   19,
   25,
   28,
   34,
   38,
   46,
   53,
   59,
   76,
   82,
   84,
   94,
   98,
   102,
   108,
   110,
   116
  ],
  "widgets": {
   "application/vnd.jupyter.widget-state+json": {
    "state": {
     "6654f6ede35f4128a1d630188fc72aff": {
      "model_module": "@jupyter-widgets/base",
      "model_module_version": "1.2.0",
      "model_name": "LayoutModel",
      "state": {
       "_model_module": "@jupyter-widgets/base",
       "_model_module_version": "1.2.0",
       "_model_name": "LayoutModel",
       "_view_count": null,
       "_view_module": "@jupyter-widgets/base",
       "_view_module_version": "1.2.0",
       "_view_name": "LayoutView",
       "align_content": null,
       "align_items": null,
       "align_self": null,
       "border": null,
       "bottom": null,
       "display": null,
       "flex": null,
       "flex_flow": null,
       "grid_area": null,
       "grid_auto_columns": null,
       "grid_auto_flow": null,
       "grid_auto_rows": null,
       "grid_column": null,
       "grid_gap": null,
       "grid_row": null,
       "grid_template_areas": null,
       "grid_template_columns": null,
       "grid_template_rows": null,
       "height": null,
       "justify_content": null,
       "justify_items": null,
       "left": null,
       "margin": null,
       "max_height": null,
       "max_width": null,
       "min_height": null,
       "min_width": null,
       "object_fit": null,
       "object_position": null,
       "order": null,
       "overflow": null,
       "overflow_x": null,
       "overflow_y": null,
       "padding": null,
       "right": null,
       "top": null,
       "visibility": null,
       "width": null
      }
     },
     "700db146fda24f77959c80324b515a14": {
      "model_module": "@jupyter-widgets/base",
      "model_module_version": "1.2.0",
      "model_name": "LayoutModel",
      "state": {
       "_model_module": "@jupyter-widgets/base",
       "_model_module_version": "1.2.0",
       "_model_name": "LayoutModel",
       "_view_count": null,
       "_view_module": "@jupyter-widgets/base",
       "_view_module_version": "1.2.0",
       "_view_name": "LayoutView",
       "align_content": null,
       "align_items": null,
       "align_self": null,
       "border": "1px solid gray",
       "bottom": null,
       "display": null,
       "flex": null,
       "flex_flow": null,
       "grid_area": null,
       "grid_auto_columns": null,
       "grid_auto_flow": null,
       "grid_auto_rows": null,
       "grid_column": null,
       "grid_gap": null,
       "grid_row": null,
       "grid_template_areas": null,
       "grid_template_columns": null,
       "grid_template_rows": null,
       "height": "400px",
       "justify_content": null,
       "justify_items": null,
       "left": null,
       "margin": null,
       "max_height": null,
       "max_width": null,
       "min_height": null,
       "min_width": null,
       "object_fit": null,
       "object_position": null,
       "order": null,
       "overflow": null,
       "overflow_x": null,
       "overflow_y": null,
       "padding": null,
       "right": null,
       "top": null,
       "visibility": null,
       "width": "400px"
      }
     },
     "7358176d0d03474cb62ef3ba7b301d9b": {
      "model_module": "@jupyter-widgets/controls",
      "model_module_version": "1.5.0",
      "model_name": "ButtonStyleModel",
      "state": {
       "_model_module": "@jupyter-widgets/controls",
       "_model_module_version": "1.5.0",
       "_model_name": "ButtonStyleModel",
       "_view_count": null,
       "_view_module": "@jupyter-widgets/base",
       "_view_module_version": "1.2.0",
       "_view_name": "StyleView",
       "button_color": null,
       "font_weight": ""
      }
     },
     "d82872cc97dc46a2844347cf29b56762": {
      "buffers": [
       {
        "data": "",
        "encoding": "base64",
        "path": [
         "value"
        ]
       }
      ],
      "model_module": "@jupyter-widgets/controls",
      "model_module_version": "1.5.0",
      "model_name": "ImageModel",
      "state": {
       "_dom_classes": [],
       "_model_module": "@jupyter-widgets/controls",
       "_model_module_version": "1.5.0",
       "_model_name": "ImageModel",
       "_view_count": null,
       "_view_module": "@jupyter-widgets/controls",
       "_view_module_version": "1.5.0",
       "_view_name": "ImageView",
       "format": "png",
       "height": "",
       "layout": "IPY_MODEL_700db146fda24f77959c80324b515a14",
       "width": ""
      }
     },
     "dfa47ad77898437a854fc0186a0a7734": {
      "model_module": "@jupyter-widgets/controls",
      "model_module_version": "1.5.0",
      "model_name": "VBoxModel",
      "state": {
       "_dom_classes": [],
       "_model_module": "@jupyter-widgets/controls",
       "_model_module_version": "1.5.0",
       "_model_name": "VBoxModel",
       "_view_count": null,
       "_view_module": "@jupyter-widgets/controls",
       "_view_module_version": "1.5.0",
       "_view_name": "VBoxView",
       "box_style": "",
       "children": [
        "IPY_MODEL_d82872cc97dc46a2844347cf29b56762",
        "IPY_MODEL_e6762f6ea9fa419385d95cdaeb7d63ae"
       ],
       "layout": "IPY_MODEL_f7cb82a7da6049fdbe53c1ca286cfba3"
      }
     },
     "e6762f6ea9fa419385d95cdaeb7d63ae": {
      "model_module": "@jupyter-widgets/controls",
      "model_module_version": "1.5.0",
      "model_name": "ButtonModel",
      "state": {
       "_dom_classes": [],
       "_model_module": "@jupyter-widgets/controls",
       "_model_module_version": "1.5.0",
       "_model_name": "ButtonModel",
       "_view_count": null,
       "_view_module": "@jupyter-widgets/controls",
       "_view_module_version": "1.5.0",
       "_view_name": "ButtonView",
       "button_style": "",
       "description": "exit_sketch()",
       "disabled": false,
       "icon": "",
       "layout": "IPY_MODEL_6654f6ede35f4128a1d630188fc72aff",
       "style": "IPY_MODEL_7358176d0d03474cb62ef3ba7b301d9b",
       "tooltip": ""
      }
     },
     "f7cb82a7da6049fdbe53c1ca286cfba3": {
      "model_module": "@jupyter-widgets/base",
      "model_module_version": "1.2.0",
      "model_name": "LayoutModel",
      "state": {
       "_model_module": "@jupyter-widgets/base",
       "_model_module_version": "1.2.0",
       "_model_name": "LayoutModel",
       "_view_count": null,
       "_view_module": "@jupyter-widgets/base",
       "_view_module_version": "1.2.0",
       "_view_name": "LayoutView",
       "align_content": null,
       "align_items": null,
       "align_self": null,
       "border": null,
       "bottom": null,
       "display": null,
       "flex": null,
       "flex_flow": null,
       "grid_area": null,
       "grid_auto_columns": null,
       "grid_auto_flow": null,
       "grid_auto_rows": null,
       "grid_column": null,
       "grid_gap": null,
       "grid_row": null,
       "grid_template_areas": null,
       "grid_template_columns": null,
       "grid_template_rows": null,
       "height": null,
       "justify_content": null,
       "justify_items": null,
       "left": null,
       "margin": null,
       "max_height": null,
       "max_width": null,
       "min_height": null,
       "min_width": null,
       "object_fit": null,
       "object_position": null,
       "order": null,
       "overflow": null,
       "overflow_x": null,
       "overflow_y": null,
       "padding": null,
       "right": null,
       "top": null,
       "visibility": null,
       "width": null
      }
     }
    },
    "version_major": 2,
    "version_minor": 0
   }
  }
 },
 "nbformat": 4,
 "nbformat_minor": 5
}