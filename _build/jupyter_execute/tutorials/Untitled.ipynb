{
 "cells": [
  {
   "cell_type": "code",
   "execution_count": 1,
   "id": "ab3cfd0c-cf13-4746-9feb-78e961c1763d",
   "metadata": {},
   "outputs": [],
   "source": [
    "def setup():\n",
    "    size(600, 600)"
   ]
  },
  {
   "cell_type": "code",
   "execution_count": 2,
   "id": "5f58a277-4803-4efe-859c-e2ec3b7eb21c",
   "metadata": {},
   "outputs": [],
   "source": [
    "def draw():\n",
    "    background(0)"
   ]
  },
  {
   "cell_type": "code",
   "execution_count": 3,
   "id": "9a9ef814-dd23-4e53-9ce4-4fe72547151f",
   "metadata": {},
   "outputs": [],
   "source": [
    "run_sketch()"
   ]
  }
 ],
 "metadata": {
  "kernelspec": {
   "display_name": "py5",
   "language": "python",
   "name": "py5"
  },
  "language_info": {
   "codemirror_mode": {
    "name": "ipython",
    "version": 3
   },
   "file_extension": ".py",
   "mimetype": "text/x-python",
   "name": "python",
   "nbconvert_exporter": "python",
   "pygments_lexer": "ipython3",
   "version": "3.8.10"
  }
 },
 "nbformat": 4,
 "nbformat_minor": 5
}