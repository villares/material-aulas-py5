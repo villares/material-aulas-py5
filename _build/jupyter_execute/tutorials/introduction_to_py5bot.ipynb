{
 "cells": [
  {
   "cell_type": "markdown",
   "id": "b7cf9ccb",
   "metadata": {},
   "source": [
    "# py5bot\n",
    "\n",
    "This is py5bot. A simple and easy to use programming environment for teaching the very basics of Python programming and creative coding with py5.\n",
    "\n",
    "If you are viewing this page from the py5 documentation website, see the Binder or Live Code options by hovering your mouse over the rocket ship icon at the top of this page.\n",
    "\n",
    "Each cell in this notebook can contain a series of py5 drawing commands. The drawing commands will be executed to create a static image that will be embedded in the notebook.\n",
    "\n",
    "The main design goal is to provide a simple programming environment that is suitable for beginners. Individual programming concepts can be explained in isolation from more complicated Python concepts like functions or modules.\n",
    "\n",
    "When hosted on Jupyter Hub and paired with Jupyter Lab's \"Show Contextual Help\" feature, py5bot can become an easy to use programming environment for educators to teach Python to beginners.\n",
    "\n",
    "Below is a simple example."
   ]
  },
  {
   "cell_type": "code",
   "execution_count": 1,
   "id": "6e9e4457",
   "metadata": {},
   "outputs": [
    {
     "data": {
      "image/png": "[encoded data removed]",
      "text/plain": [
       "<PIL.Image.Image image mode=RGB size=200x200 at 0x7F8C43F3F250>"
      ]
     },
     "execution_count": 1,
     "metadata": {
      "filenames": {
       "image/png": "/home/villares/GitHub/material-aulas-py5/_build/jupyter_execute/tutorials/introduction_to_py5bot_1_0.png"
      }
     },
     "output_type": "execute_result"
    }
   ],
   "source": [
    "size(200, 200)\n",
    "background(255, 255, 0)\n",
    "rect(50, 50, 100, 100)"
   ]
  },
  {
   "cell_type": "markdown",
   "id": "5910beb4",
   "metadata": {},
   "source": [
    "If you are familar with Processing, you might describe this as a static sketch.\n",
    "\n",
    "Internally, py5 executes these commands inside of a `setup()` method to render a single frame."
   ]
  },
  {
   "cell_type": "markdown",
   "id": "15d0ff54",
   "metadata": {},
   "source": [
    "## py5bot rules\n",
    "\n",
    "There are a few important rules that you should be aware of.\n",
    "\n",
    "* The `size()` command should be the first line of Python code. Comments are ignored. If the `size()` command is omitted, the output size will be 100 by 100 pixels.\n",
    "* When py5bot is run on Windows and Linux computers, you can use the `P2D` or `P3D` renderers. These OpenGL renderers are currently not supported on OSX.\n",
    "* Each cell has its own local namespace. Variables and functions defined in one cell cannot be used in another cell.\n",
    "\n",
    "There are some less important rules that should be mentioned but aren't that important:\n",
    "\n",
    "* Calls to `smooth()` or `no_smooth()`, if desired, should be after `size()` and before other Python commands.\n",
    "* A call to `pixel_density()` would also need to be after `size()` and before other Python commands, but since it just scales the size of the output, you probably shouldn't bother using it in py5bot.\n",
    "\n",
    "That's basically it."
   ]
  },
  {
   "cell_type": "markdown",
   "id": "a276f801",
   "metadata": {},
   "source": [
    "## More examples\n",
    "\n",
    "Let's see a more interesting example."
   ]
  },
  {
   "cell_type": "code",
   "execution_count": 2,
   "id": "9335e62e",
   "metadata": {},
   "outputs": [
    {
     "data": {
      "image/png": "[encoded data removed]",
      "text/plain": [
       "<PIL.Image.Image image mode=RGB size=200x200 at 0x7F8BA00CDFA0>"
      ]
     },
     "execution_count": 2,
     "metadata": {
      "filenames": {
       "image/png": "/home/villares/GitHub/material-aulas-py5/_build/jupyter_execute/tutorials/introduction_to_py5bot_5_0.png"
      }
     },
     "output_type": "execute_result"
    }
   ],
   "source": [
    "size(200, 200)\n",
    "background(224)\n",
    "no_stroke()\n",
    "for _ in range(250):\n",
    "    fill(random_int(255), random_int(255), random_int(255))\n",
    "    rect(random_int(width), random_int(height), 10, 10)"
   ]
  },
  {
   "cell_type": "markdown",
   "id": "75700bdd",
   "metadata": {},
   "source": [
    "If you like you can put `print` statements in the cell."
   ]
  },
  {
   "cell_type": "code",
   "execution_count": 3,
   "id": "f76241d5",
   "metadata": {},
   "outputs": [
    {
     "name": "stdout",
     "output_type": "stream",
     "text": [
      "draw a red rectangle\n"
     ]
    },
    {
     "data": {
      "image/png": "[encoded data removed]",
      "text/plain": [
       "<PIL.Image.Image image mode=RGB size=200x200 at 0x7F8BA006E100>"
      ]
     },
     "execution_count": 3,
     "metadata": {
      "filenames": {
       "image/png": "/home/villares/GitHub/material-aulas-py5/_build/jupyter_execute/tutorials/introduction_to_py5bot_7_1.png"
      }
     },
     "output_type": "execute_result"
    }
   ],
   "source": [
    "size(200, 200)\n",
    "print('draw a red rectangle')\n",
    "fill(255, 0, 0)\n",
    "rect(50, 50, 100, 100)"
   ]
  },
  {
   "cell_type": "markdown",
   "id": "147a0d6d",
   "metadata": {},
   "source": [
    "You can define your own functions. Any functions will be local to only one cell, however."
   ]
  },
  {
   "cell_type": "code",
   "execution_count": 4,
   "id": "1f7a769c",
   "metadata": {},
   "outputs": [
    {
     "data": {
      "image/png": "[encoded data removed]",
      "text/plain": [
       "<PIL.Image.Image image mode=RGB size=200x200 at 0x7F8BA006E970>"
      ]
     },
     "execution_count": 4,
     "metadata": {
      "filenames": {
       "image/png": "/home/villares/GitHub/material-aulas-py5/_build/jupyter_execute/tutorials/introduction_to_py5bot_9_0.png"
      }
     },
     "output_type": "execute_result"
    }
   ],
   "source": [
    "size(200, 200)\n",
    "\n",
    "def draw_random_circle():\n",
    "    x = random_int(width)\n",
    "    y = random_int(height)\n",
    "    circle(x, y, random_int(25))\n",
    "    \n",
    "for _ in range(20):\n",
    "    draw_random_circle()"
   ]
  },
  {
   "cell_type": "markdown",
   "id": "90fe26f1",
   "metadata": {},
   "source": [
    "## Error Message Reporting\n",
    "\n",
    "No programming enviroment would be suitable for beginners without appropriate error messages. Observe that in all cases, the error message correctly points to the problem in the code.\n",
    "\n",
    "Below is what syntax errors look like."
   ]
  },
  {
   "cell_type": "code",
   "execution_count": 5,
   "id": "9de442b0",
   "metadata": {},
   "outputs": [
    {
     "name": "stderr",
     "output_type": "stream",
     "text": [
      "There is a problem with your code:\n",
      "SyntaxError: unmatched ')' (<py5bot>, line 2)\n",
      "    rect(10, 20, 30, 40))\n",
      "                        ^\n"
     ]
    }
   ],
   "source": [
    "size(200, 200)\n",
    "rect(10, 20, 30, 40))"
   ]
  },
  {
   "cell_type": "markdown",
   "id": "8801f416",
   "metadata": {},
   "source": [
    "This next example is a programming error:"
   ]
  },
  {
   "cell_type": "code",
   "execution_count": 6,
   "id": "afc4226b",
   "metadata": {},
   "outputs": [
    {
     "name": "stderr",
     "output_type": "stream",
     "text": [
      "py5 encountered an error in your code:\n",
      "    1    \n",
      "    2    \n",
      "--> 3    impossible = 100 / 0\n",
      "\n",
      "ZeroDivisionError: division by zero\n"
     ]
    }
   ],
   "source": [
    "size(200, 200)\n",
    "\n",
    "impossible = 100 / 0"
   ]
  },
  {
   "cell_type": "markdown",
   "id": "2a197fe5",
   "metadata": {},
   "source": [
    "The next example shows the displayed error message for when a py5 drawing function is used incorrectly."
   ]
  },
  {
   "cell_type": "code",
   "execution_count": 7,
   "id": "5d5a395e",
   "metadata": {},
   "outputs": [
    {
     "name": "stderr",
     "output_type": "stream",
     "text": [
      "py5 encountered an error in your code:\n",
      "    1    \n",
      "    2    \n",
      "--> 3    rect(1, 2, 3, 4, \"extra param\")\n",
      "\n",
      "TypeError: The parameter types (int, int, int, int, str) are invalid for method rect.\n",
      "Your parameters must match one of the following signatures:\n",
      " * rect(a: float, b: float, c: float, d: float, /) -> None\n",
      " * rect(a: float, b: float, c: float, d: float, r: float, /) -> None\n",
      " * rect(a: float, b: float, c: float, d: float, tl: float, tr: float, br: float, bl: float, /) -> None\n"
     ]
    }
   ],
   "source": [
    "size(200, 200)\n",
    "\n",
    "rect(1, 2, 3, 4, \"extra param\")"
   ]
  },
  {
   "cell_type": "markdown",
   "id": "2e9559cf",
   "metadata": {},
   "source": [
    "These error messages can be customized. That is a separate topic to be explained elsewhere."
   ]
  },
  {
   "cell_type": "markdown",
   "id": "5dc89743",
   "metadata": {},
   "source": [
    "There are py5bot reserved words. You are not allowed to use a reserved word as a variable name.\n",
    "\n",
    "Ideally py5bot would have syntax hightlighting to color the reserved words differently, but that hasn't been implemented yet. Let me know if you are interested in working on that."
   ]
  },
  {
   "cell_type": "code",
   "execution_count": 8,
   "id": "7bd5a7b3",
   "metadata": {},
   "outputs": [
    {
     "name": "stderr",
     "output_type": "stream",
     "text": [
      "There is a problem with your code.\n",
      "===================================\n",
      "Assignment to py5 reserved word \"red\" on line 3 is discouraged and may causes errors in your sketch.\n",
      "red = 255, 0, 0\n",
      "^\n"
     ]
    }
   ],
   "source": [
    "size(200, 200)\n",
    "\n",
    "red = 255, 0, 0\n",
    "fill(*red)\n",
    "rect(50, 50, 100, 100)"
   ]
  },
  {
   "cell_type": "markdown",
   "id": "c65c0aa2",
   "metadata": {},
   "source": [
    "## Other Renderers\n",
    "\n",
    "As previously stated, the P2D and P3D renderers only work on Linux and Windows. On OSX, py5bot will replace the P2D or P3D renderers with the default renderer after displaying a polite warning.\n",
    "\n",
    "If you are running this through Jupyter Lab, the following cell will work just fine, without a warning. What matter is where the Jupyter server is running, not the Jupyter client."
   ]
  },
  {
   "cell_type": "code",
   "execution_count": 9,
   "id": "ea10a2c5",
   "metadata": {},
   "outputs": [
    {
     "data": {
      "image/png": "[encoded data removed]",
      "text/plain": [
       "<PIL.Image.Image image mode=RGB size=200x200 at 0x7F8C43FBA9D0>"
      ]
     },
     "execution_count": 9,
     "metadata": {
      "filenames": {
       "image/png": "/home/villares/GitHub/material-aulas-py5/_build/jupyter_execute/tutorials/introduction_to_py5bot_20_0.png"
      }
     },
     "output_type": "execute_result"
    }
   ],
   "source": [
    "size(200, 200, P2D)\n",
    "\n",
    "circle(width / 2, height / 2, 150)"
   ]
  },
  {
   "cell_type": "markdown",
   "id": "5dfc68a5",
   "metadata": {},
   "source": [
    "## Code Bypass\n",
    "\n",
    "You can use `%%python` to bypass py5bot execution. Any variables or functions defined in such a cell will be available to all later cells. Python modules can be imported here as well.\n",
    "\n",
    "The `%%python` bypass meta-command must be at the very beginning of the code cell."
   ]
  },
  {
   "cell_type": "code",
   "execution_count": 10,
   "id": "fff0443d",
   "metadata": {},
   "outputs": [],
   "source": [
    "%%python\n",
    "\n",
    "import numpy as np\n",
    "\n",
    "def draw_random_circle(x, y):\n",
    "    fill(random_int(255), random_int(255), random_int(255))\n",
    "    circle(x, y, random_int(25))\n",
    "\n",
    "message = \"py5bot is awesome\""
   ]
  },
  {
   "cell_type": "markdown",
   "id": "9870887a",
   "metadata": {},
   "source": [
    "The code in the previous cell will be available to regular py5bot cells."
   ]
  },
  {
   "cell_type": "code",
   "execution_count": 11,
   "id": "44f0cd0e",
   "metadata": {},
   "outputs": [
    {
     "data": {
      "image/png": "[encoded data removed]",
      "text/plain": [
       "<PIL.Image.Image image mode=RGB size=200x200 at 0x7F8BA006EA60>"
      ]
     },
     "execution_count": 11,
     "metadata": {
      "filenames": {
       "image/png": "/home/villares/GitHub/material-aulas-py5/_build/jupyter_execute/tutorials/introduction_to_py5bot_24_0.png"
      }
     },
     "output_type": "execute_result"
    }
   ],
   "source": [
    "size(200, 200)\n",
    "\n",
    "no_stroke()\n",
    "\n",
    "for _ in range(250):\n",
    "    x = np.random.normal(width / 2, 40)\n",
    "    y = np.random.normal(height / 2, 40)\n",
    "    draw_random_circle(x, y)\n",
    "\n",
    "    \n",
    "fill(255, 196)\n",
    "rect(0, 0, width, 30)\n",
    "\n",
    "fill(255, 0, 0)\n",
    "text_size(22)\n",
    "text(message, 10, 20)"
   ]
  },
  {
   "cell_type": "code",
   "execution_count": null,
   "id": "825de4f4",
   "metadata": {},
   "outputs": [],
   "source": []
  },
  {
   "cell_type": "code",
   "execution_count": null,
   "id": "d9c504ba",
   "metadata": {},
   "outputs": [],
   "source": []
  }
 ],
 "metadata": {
  "jupytext": {
   "formats": "ipynb,md:myst",
   "text_representation": {
    "extension": ".md",
    "format_name": "myst",
    "format_version": 0.13,
    "jupytext_version": "1.10.3"
   }
  },
  "kernelspec": {
   "display_name": "py5bot",
   "language": "python",
   "name": "py5bot"
  },
  "language_info": {
   "codemirror_mode": {
    "name": "ipython",
    "version": 3
   },
   "file_extension": ".py",
   "mimetype": "text/x-python",
   "name": "python",
   "nbconvert_exporter": "python",
   "pygments_lexer": "ipython3",
   "version": "3.8.10"
  },
  "source_map": [
   13,
   29,
   33,
   39,
   56,
   62,
   69,
   73,
   78,
   82,
   92,
   100,
   103,
   107,
   111,
   115,
   119,
   123,
   129,
   135,
   143,
   147,
   155,
   165,
   169,
   188,
   192
  ]
 },
 "nbformat": 4,
 "nbformat_minor": 5
}