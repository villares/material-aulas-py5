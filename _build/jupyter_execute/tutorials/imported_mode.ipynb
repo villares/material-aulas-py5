{
 "cells": [
  {
   "cell_type": "code",
   "execution_count": 1,
   "id": "bfbe6ed8-4e73-4cf8-9d9a-e1f2a73d89c7",
   "metadata": {},
   "outputs": [],
   "source": [
    "def setup():\n",
    "    size(600, 600)"
   ]
  },
  {
   "cell_type": "code",
   "execution_count": 2,
   "id": "5b5173ba-bb22-4376-bcbd-3d65f3cf5118",
   "metadata": {},
   "outputs": [],
   "source": [
    "def draw():\n",
    "    rect(mouse_x, mouse_y, 10, 10)"
   ]
  },
  {
   "cell_type": "code",
   "execution_count": 3,
   "id": "7c8c9c70-561f-4dec-be6e-6ae3db3953bc",
   "metadata": {},
   "outputs": [],
   "source": [
    "\n",
    "run_sketch()\n"
   ]
  }
 ],
 "metadata": {
  "kernelspec": {
   "display_name": "py5",
   "language": "python",
   "name": "py5"
  },
  "language_info": {
   "codemirror_mode": {
    "name": "ipython",
    "version": 3
   },
   "file_extension": ".py",
   "mimetype": "text/x-python",
   "name": "python",
   "nbconvert_exporter": "python",
   "pygments_lexer": "ipython3",
   "version": "3.8.10"
  }
 },
 "nbformat": 4,
 "nbformat_minor": 5
}