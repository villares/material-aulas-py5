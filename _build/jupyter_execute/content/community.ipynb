{
 "cells": [
  {
   "cell_type": "markdown",
   "id": "7a2dd5db",
   "metadata": {},
   "source": [
    "# py5 Community"
   ]
  },
  {
   "cell_type": "code",
   "execution_count": 1,
   "id": "83e7ea57",
   "metadata": {},
   "outputs": [
    {
     "ename": "ImportError",
     "evalue": "cannot import name 'community' from 'py5' (/home/villares/miniconda3/envs/py5coding/lib/python3.8/site-packages/py5/__init__.py)",
     "output_type": "error",
     "traceback": [
      "\u001b[0;31m---------------------------------------------------------------------------\u001b[0m",
      "\u001b[0;31mImportError\u001b[0m                               Traceback (most recent call last)",
      "\u001b[0;32m/tmp/ipykernel_256601/2897324602.py\u001b[0m in \u001b[0;36m<module>\u001b[0;34m\u001b[0m\n\u001b[0;32m----> 1\u001b[0;31m \u001b[0;32mfrom\u001b[0m \u001b[0mpy5\u001b[0m \u001b[0;32mimport\u001b[0m \u001b[0mcommunity\u001b[0m\u001b[0;34m\u001b[0m\u001b[0;34m\u001b[0m\u001b[0m\n\u001b[0m",
      "\u001b[0;31mImportError\u001b[0m: cannot import name 'community' from 'py5' (/home/villares/miniconda3/envs/py5coding/lib/python3.8/site-packages/py5/__init__.py)"
     ]
    }
   ],
   "source": [
    "from py5 import community"
   ]
  },
  {
   "cell_type": "markdown",
   "id": "e5f1af62",
   "metadata": {},
   "source": [
    "Unlike the py5 library and much of the documentation you see on this\n",
    "website, I cannot write Python code to generate a community. It can only\n",
    "be fostered through the interactions and efforts of people. The\n",
    "Processing Foundation is known for its inclusive and accessible\n",
    "community, and I'd like for the same to be true about py5. In my view,\n",
    "that means providing everyone, regardless of their background, the\n",
    "freedom to learn, experiment, and make mistakes.\n",
    "\n",
    "Why is this important to me?\n",
    "\n",
    "To answer that question, I'll start by explaining my early experiences\n",
    "with Processing and the Processing community.\n",
    "\n",
    "Before I first heard about Processing or ITP, I worked in the finance\n",
    "industry, mostly doing quantitative research and development. It\n",
    "involved a lot of analytical or scientific programming. I had a\n",
    "background in math and computer programming so it was a good fit.\n",
    "\n",
    "Contrary to what you might think, my programming and technical knowledge\n",
    "did not always increase from year to year since I graduated from\n",
    "college. Generally it did, but sometimes my skills atrophied during\n",
    "times when my work responsibilities did not involve much coding.\n",
    "\n",
    "I discovered Processing during one of the times when my technical skills\n",
    "weren't that great. And I was getting treated poorly at my job because\n",
    "of it. This wasn't constructive feedback; it was demeaning behavior\n",
    "that I gained nothing from. It was part of a pattern of how management\n",
    "at that company operated. Sadly, the most destructive employees were\n",
    "getting promoted, reinforcing cycles of negativity.\n",
    "\n",
    "While all of this was happening I was also starting to experiment with\n",
    "Processing. First I made simple sketches, and later I moved on to more\n",
    "complex animations. In time I created two Processing libraries,\n",
    "[Camera3D](https://ixora.io/projects/camera-3D/) and\n",
    "[ColorBlindness](https://ixora.io/projects/colorblindness/). My first\n",
    "library, Camera3D, took months to complete. I rewrote it from scratch\n",
    "several times as I figured out better ways to design and organize the\n",
    "code. It was a joy to create both of them, and I learned a tremendous\n",
    "amount along the way. It was the biggest thrill when I made each\n",
    "publicly available and people in the community started using them.\n",
    "\n",
    "The community around Processing fosters experimentation and learning,\n",
    "and freedom to experiment includes the freedom to make mistakes. And the\n",
    "reality is I made a lot of mistakes while creating both of those\n",
    "libraries. Mistakes that, had I been operating in the hostile\n",
    "environments I was employed in, would have resulted in the projects\n",
    "being taken away from me or simply terminated. The exact same thing is\n",
    "true for py5. All of these projects simply wouldn't exist today, which\n",
    "would be a loss, both for me, and for the community as a whole.\n",
    "\n",
    "Unexpectedly, what I learned through Processing helped me be more\n",
    "successful at work, even though all this was years before I met a person\n",
    "in real life who had heard of it. Processing helped me build confidence\n",
    "in my technical skills at a time when I most needed it.\n",
    "\n",
    "I have been thinking about these things over the past year or so as I\n",
    "built py5. This won't be apparent to you now, but the code itself is\n",
    "modular enough that others will be able to contribute to it without\n",
    "first needing to understand the complexities of the entire project.\n",
    "Later, I'll start showing people how to contribute by creating py5\n",
    "libraries, similar to the libraries like Camera3D that have been built\n",
    "for Processing. Eventually I'll also have plenty of documentation and\n",
    "tutorials that people can read and start experimenting with. And most\n",
    "importantly, this concept of community is going to be a part of how I\n",
    "interact with people when I teach people how to use py5.\n",
    "\n",
    "Few people learn or grow in a hostile environment. Or perhaps what is\n",
    "learned has nothing to do with programming. In any case, I value the\n",
    "Processing community because it is the complete opposite of the hostile\n",
    "environments I used to work in. I want other people to find\n",
    "opportunities to learn and experiment, and make mistakes, just like I\n",
    "did. It is from such an environment where new ideas are conceived, new\n",
    "tools are created, and new applications are developed, bringing value\n",
    "into the world that otherwise would never come to be."
   ]
  }
 ],
 "metadata": {
  "jupytext": {
   "text_representation": {
    "extension": ".md",
    "format_name": "myst",
    "format_version": 0.13,
    "jupytext_version": "1.10.3"
   }
  },
  "kernelspec": {
   "display_name": "Python 3",
   "language": "python",
   "name": "python3"
  },
  "language_info": {
   "codemirror_mode": {
    "name": "ipython",
    "version": 3
   },
   "file_extension": ".py",
   "mimetype": "text/x-python",
   "name": "python",
   "nbconvert_exporter": "python",
   "pygments_lexer": "ipython3",
   "version": "3.8.10"
  },
  "source_map": [
   12,
   16,
   18
  ]
 },
 "nbformat": 4,
 "nbformat_minor": 5
}